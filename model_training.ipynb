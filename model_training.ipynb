{
 "cells": [
  {
   "cell_type": "code",
   "execution_count": 6,
   "id": "d6459dec",
   "metadata": {},
   "outputs": [],
   "source": [
    "import pandas as pd\n",
    "import numpy as np\n",
    "import matplotlib.pyplot as plt\n",
    "import seaborn as sns\n",
    "import plotly.express as px\n",
    "\n",
    "from sklearn.model_selection import train_test_split, StratifiedKFold, cross_validate\n",
    "from sklearn.preprocessing import StandardScaler\n",
    "from sklearn.impute import SimpleImputer\n",
    "from sklearn.pipeline import Pipeline\n",
    "from sklearn.linear_model import LogisticRegression\n",
    "from sklearn.ensemble import RandomForestClassifier\n",
    "from sklearn.metrics import accuracy_score, f1_score, confusion_matrix, classification_report\n",
    "\n",
    "import joblib, json, os\n",
    "\n"
   ]
  },
  {
   "cell_type": "code",
   "execution_count": 7,
   "id": "d5d7782a",
   "metadata": {},
   "outputs": [
    {
     "data": {
      "text/html": [
       "<div>\n",
       "<style scoped>\n",
       "    .dataframe tbody tr th:only-of-type {\n",
       "        vertical-align: middle;\n",
       "    }\n",
       "\n",
       "    .dataframe tbody tr th {\n",
       "        vertical-align: top;\n",
       "    }\n",
       "\n",
       "    .dataframe thead th {\n",
       "        text-align: right;\n",
       "    }\n",
       "</style>\n",
       "<table border=\"1\" class=\"dataframe\">\n",
       "  <thead>\n",
       "    <tr style=\"text-align: right;\">\n",
       "      <th></th>\n",
       "      <th>fixed acidity</th>\n",
       "      <th>volatile acidity</th>\n",
       "      <th>citric acid</th>\n",
       "      <th>residual sugar</th>\n",
       "      <th>chlorides</th>\n",
       "      <th>free sulfur dioxide</th>\n",
       "      <th>total sulfur dioxide</th>\n",
       "      <th>density</th>\n",
       "      <th>pH</th>\n",
       "      <th>sulphates</th>\n",
       "      <th>alcohol</th>\n",
       "      <th>quality</th>\n",
       "      <th>Id</th>\n",
       "    </tr>\n",
       "  </thead>\n",
       "  <tbody>\n",
       "    <tr>\n",
       "      <th>0</th>\n",
       "      <td>7.4</td>\n",
       "      <td>0.70</td>\n",
       "      <td>0.00</td>\n",
       "      <td>1.9</td>\n",
       "      <td>0.076</td>\n",
       "      <td>11.0</td>\n",
       "      <td>34.0</td>\n",
       "      <td>0.9978</td>\n",
       "      <td>3.51</td>\n",
       "      <td>0.56</td>\n",
       "      <td>9.4</td>\n",
       "      <td>5</td>\n",
       "      <td>0</td>\n",
       "    </tr>\n",
       "    <tr>\n",
       "      <th>1</th>\n",
       "      <td>7.8</td>\n",
       "      <td>0.88</td>\n",
       "      <td>0.00</td>\n",
       "      <td>2.6</td>\n",
       "      <td>0.098</td>\n",
       "      <td>25.0</td>\n",
       "      <td>67.0</td>\n",
       "      <td>0.9968</td>\n",
       "      <td>3.20</td>\n",
       "      <td>0.68</td>\n",
       "      <td>9.8</td>\n",
       "      <td>5</td>\n",
       "      <td>1</td>\n",
       "    </tr>\n",
       "    <tr>\n",
       "      <th>2</th>\n",
       "      <td>7.8</td>\n",
       "      <td>0.76</td>\n",
       "      <td>0.04</td>\n",
       "      <td>2.3</td>\n",
       "      <td>0.092</td>\n",
       "      <td>15.0</td>\n",
       "      <td>54.0</td>\n",
       "      <td>0.9970</td>\n",
       "      <td>3.26</td>\n",
       "      <td>0.65</td>\n",
       "      <td>9.8</td>\n",
       "      <td>5</td>\n",
       "      <td>2</td>\n",
       "    </tr>\n",
       "    <tr>\n",
       "      <th>3</th>\n",
       "      <td>11.2</td>\n",
       "      <td>0.28</td>\n",
       "      <td>0.56</td>\n",
       "      <td>1.9</td>\n",
       "      <td>0.075</td>\n",
       "      <td>17.0</td>\n",
       "      <td>60.0</td>\n",
       "      <td>0.9980</td>\n",
       "      <td>3.16</td>\n",
       "      <td>0.58</td>\n",
       "      <td>9.8</td>\n",
       "      <td>6</td>\n",
       "      <td>3</td>\n",
       "    </tr>\n",
       "    <tr>\n",
       "      <th>4</th>\n",
       "      <td>7.4</td>\n",
       "      <td>0.70</td>\n",
       "      <td>0.00</td>\n",
       "      <td>1.9</td>\n",
       "      <td>0.076</td>\n",
       "      <td>11.0</td>\n",
       "      <td>34.0</td>\n",
       "      <td>0.9978</td>\n",
       "      <td>3.51</td>\n",
       "      <td>0.56</td>\n",
       "      <td>9.4</td>\n",
       "      <td>5</td>\n",
       "      <td>4</td>\n",
       "    </tr>\n",
       "  </tbody>\n",
       "</table>\n",
       "</div>"
      ],
      "text/plain": [
       "   fixed acidity  volatile acidity  citric acid  residual sugar  chlorides  \\\n",
       "0            7.4              0.70         0.00             1.9      0.076   \n",
       "1            7.8              0.88         0.00             2.6      0.098   \n",
       "2            7.8              0.76         0.04             2.3      0.092   \n",
       "3           11.2              0.28         0.56             1.9      0.075   \n",
       "4            7.4              0.70         0.00             1.9      0.076   \n",
       "\n",
       "   free sulfur dioxide  total sulfur dioxide  density    pH  sulphates  \\\n",
       "0                 11.0                  34.0   0.9978  3.51       0.56   \n",
       "1                 25.0                  67.0   0.9968  3.20       0.68   \n",
       "2                 15.0                  54.0   0.9970  3.26       0.65   \n",
       "3                 17.0                  60.0   0.9980  3.16       0.58   \n",
       "4                 11.0                  34.0   0.9978  3.51       0.56   \n",
       "\n",
       "   alcohol  quality  Id  \n",
       "0      9.4        5   0  \n",
       "1      9.8        5   1  \n",
       "2      9.8        5   2  \n",
       "3      9.8        6   3  \n",
       "4      9.4        5   4  "
      ]
     },
     "execution_count": 7,
     "metadata": {},
     "output_type": "execute_result"
    }
   ],
   "source": [
    "# Load your WineQT dataset\n",
    "df = pd.read_csv(\"../data/WineQT.csv\")\n",
    "df.head()"
   ]
  },
  {
   "cell_type": "code",
   "execution_count": 8,
   "id": "c1e02006",
   "metadata": {},
   "outputs": [
    {
     "name": "stdout",
     "output_type": "stream",
     "text": [
      "Shape: (1143, 13)\n",
      "\n",
      "Columns: ['fixed acidity', 'volatile acidity', 'citric acid', 'residual sugar', 'chlorides', 'free sulfur dioxide', 'total sulfur dioxide', 'density', 'pH', 'sulphates', 'alcohol', 'quality', 'Id']\n",
      "\n",
      "Missing values:\n",
      " fixed acidity           0\n",
      "volatile acidity        0\n",
      "citric acid             0\n",
      "residual sugar          0\n",
      "chlorides               0\n",
      "free sulfur dioxide     0\n",
      "total sulfur dioxide    0\n",
      "density                 0\n",
      "pH                      0\n",
      "sulphates               0\n",
      "alcohol                 0\n",
      "quality                 0\n",
      "Id                      0\n",
      "dtype: int64\n"
     ]
    },
    {
     "data": {
      "text/html": [
       "<div>\n",
       "<style scoped>\n",
       "    .dataframe tbody tr th:only-of-type {\n",
       "        vertical-align: middle;\n",
       "    }\n",
       "\n",
       "    .dataframe tbody tr th {\n",
       "        vertical-align: top;\n",
       "    }\n",
       "\n",
       "    .dataframe thead th {\n",
       "        text-align: right;\n",
       "    }\n",
       "</style>\n",
       "<table border=\"1\" class=\"dataframe\">\n",
       "  <thead>\n",
       "    <tr style=\"text-align: right;\">\n",
       "      <th></th>\n",
       "      <th>fixed acidity</th>\n",
       "      <th>volatile acidity</th>\n",
       "      <th>citric acid</th>\n",
       "      <th>residual sugar</th>\n",
       "      <th>chlorides</th>\n",
       "      <th>free sulfur dioxide</th>\n",
       "      <th>total sulfur dioxide</th>\n",
       "      <th>density</th>\n",
       "      <th>pH</th>\n",
       "      <th>sulphates</th>\n",
       "      <th>alcohol</th>\n",
       "      <th>quality</th>\n",
       "      <th>Id</th>\n",
       "    </tr>\n",
       "  </thead>\n",
       "  <tbody>\n",
       "    <tr>\n",
       "      <th>count</th>\n",
       "      <td>1143.000000</td>\n",
       "      <td>1143.000000</td>\n",
       "      <td>1143.000000</td>\n",
       "      <td>1143.000000</td>\n",
       "      <td>1143.000000</td>\n",
       "      <td>1143.000000</td>\n",
       "      <td>1143.000000</td>\n",
       "      <td>1143.000000</td>\n",
       "      <td>1143.000000</td>\n",
       "      <td>1143.000000</td>\n",
       "      <td>1143.000000</td>\n",
       "      <td>1143.000000</td>\n",
       "      <td>1143.000000</td>\n",
       "    </tr>\n",
       "    <tr>\n",
       "      <th>mean</th>\n",
       "      <td>8.311111</td>\n",
       "      <td>0.531339</td>\n",
       "      <td>0.268364</td>\n",
       "      <td>2.532152</td>\n",
       "      <td>0.086933</td>\n",
       "      <td>15.615486</td>\n",
       "      <td>45.914698</td>\n",
       "      <td>0.996730</td>\n",
       "      <td>3.311015</td>\n",
       "      <td>0.657708</td>\n",
       "      <td>10.442111</td>\n",
       "      <td>5.657043</td>\n",
       "      <td>804.969379</td>\n",
       "    </tr>\n",
       "    <tr>\n",
       "      <th>std</th>\n",
       "      <td>1.747595</td>\n",
       "      <td>0.179633</td>\n",
       "      <td>0.196686</td>\n",
       "      <td>1.355917</td>\n",
       "      <td>0.047267</td>\n",
       "      <td>10.250486</td>\n",
       "      <td>32.782130</td>\n",
       "      <td>0.001925</td>\n",
       "      <td>0.156664</td>\n",
       "      <td>0.170399</td>\n",
       "      <td>1.082196</td>\n",
       "      <td>0.805824</td>\n",
       "      <td>463.997116</td>\n",
       "    </tr>\n",
       "    <tr>\n",
       "      <th>min</th>\n",
       "      <td>4.600000</td>\n",
       "      <td>0.120000</td>\n",
       "      <td>0.000000</td>\n",
       "      <td>0.900000</td>\n",
       "      <td>0.012000</td>\n",
       "      <td>1.000000</td>\n",
       "      <td>6.000000</td>\n",
       "      <td>0.990070</td>\n",
       "      <td>2.740000</td>\n",
       "      <td>0.330000</td>\n",
       "      <td>8.400000</td>\n",
       "      <td>3.000000</td>\n",
       "      <td>0.000000</td>\n",
       "    </tr>\n",
       "    <tr>\n",
       "      <th>25%</th>\n",
       "      <td>7.100000</td>\n",
       "      <td>0.392500</td>\n",
       "      <td>0.090000</td>\n",
       "      <td>1.900000</td>\n",
       "      <td>0.070000</td>\n",
       "      <td>7.000000</td>\n",
       "      <td>21.000000</td>\n",
       "      <td>0.995570</td>\n",
       "      <td>3.205000</td>\n",
       "      <td>0.550000</td>\n",
       "      <td>9.500000</td>\n",
       "      <td>5.000000</td>\n",
       "      <td>411.000000</td>\n",
       "    </tr>\n",
       "    <tr>\n",
       "      <th>50%</th>\n",
       "      <td>7.900000</td>\n",
       "      <td>0.520000</td>\n",
       "      <td>0.250000</td>\n",
       "      <td>2.200000</td>\n",
       "      <td>0.079000</td>\n",
       "      <td>13.000000</td>\n",
       "      <td>37.000000</td>\n",
       "      <td>0.996680</td>\n",
       "      <td>3.310000</td>\n",
       "      <td>0.620000</td>\n",
       "      <td>10.200000</td>\n",
       "      <td>6.000000</td>\n",
       "      <td>794.000000</td>\n",
       "    </tr>\n",
       "    <tr>\n",
       "      <th>75%</th>\n",
       "      <td>9.100000</td>\n",
       "      <td>0.640000</td>\n",
       "      <td>0.420000</td>\n",
       "      <td>2.600000</td>\n",
       "      <td>0.090000</td>\n",
       "      <td>21.000000</td>\n",
       "      <td>61.000000</td>\n",
       "      <td>0.997845</td>\n",
       "      <td>3.400000</td>\n",
       "      <td>0.730000</td>\n",
       "      <td>11.100000</td>\n",
       "      <td>6.000000</td>\n",
       "      <td>1209.500000</td>\n",
       "    </tr>\n",
       "    <tr>\n",
       "      <th>max</th>\n",
       "      <td>15.900000</td>\n",
       "      <td>1.580000</td>\n",
       "      <td>1.000000</td>\n",
       "      <td>15.500000</td>\n",
       "      <td>0.611000</td>\n",
       "      <td>68.000000</td>\n",
       "      <td>289.000000</td>\n",
       "      <td>1.003690</td>\n",
       "      <td>4.010000</td>\n",
       "      <td>2.000000</td>\n",
       "      <td>14.900000</td>\n",
       "      <td>8.000000</td>\n",
       "      <td>1597.000000</td>\n",
       "    </tr>\n",
       "  </tbody>\n",
       "</table>\n",
       "</div>"
      ],
      "text/plain": [
       "       fixed acidity  volatile acidity  citric acid  residual sugar  \\\n",
       "count    1143.000000       1143.000000  1143.000000     1143.000000   \n",
       "mean        8.311111          0.531339     0.268364        2.532152   \n",
       "std         1.747595          0.179633     0.196686        1.355917   \n",
       "min         4.600000          0.120000     0.000000        0.900000   \n",
       "25%         7.100000          0.392500     0.090000        1.900000   \n",
       "50%         7.900000          0.520000     0.250000        2.200000   \n",
       "75%         9.100000          0.640000     0.420000        2.600000   \n",
       "max        15.900000          1.580000     1.000000       15.500000   \n",
       "\n",
       "         chlorides  free sulfur dioxide  total sulfur dioxide      density  \\\n",
       "count  1143.000000          1143.000000           1143.000000  1143.000000   \n",
       "mean      0.086933            15.615486             45.914698     0.996730   \n",
       "std       0.047267            10.250486             32.782130     0.001925   \n",
       "min       0.012000             1.000000              6.000000     0.990070   \n",
       "25%       0.070000             7.000000             21.000000     0.995570   \n",
       "50%       0.079000            13.000000             37.000000     0.996680   \n",
       "75%       0.090000            21.000000             61.000000     0.997845   \n",
       "max       0.611000            68.000000            289.000000     1.003690   \n",
       "\n",
       "                pH    sulphates      alcohol      quality           Id  \n",
       "count  1143.000000  1143.000000  1143.000000  1143.000000  1143.000000  \n",
       "mean      3.311015     0.657708    10.442111     5.657043   804.969379  \n",
       "std       0.156664     0.170399     1.082196     0.805824   463.997116  \n",
       "min       2.740000     0.330000     8.400000     3.000000     0.000000  \n",
       "25%       3.205000     0.550000     9.500000     5.000000   411.000000  \n",
       "50%       3.310000     0.620000    10.200000     6.000000   794.000000  \n",
       "75%       3.400000     0.730000    11.100000     6.000000  1209.500000  \n",
       "max       4.010000     2.000000    14.900000     8.000000  1597.000000  "
      ]
     },
     "execution_count": 8,
     "metadata": {},
     "output_type": "execute_result"
    }
   ],
   "source": [
    "print(\"Shape:\", df.shape)\n",
    "print(\"\\nColumns:\", df.columns.tolist())\n",
    "print(\"\\nMissing values:\\n\", df.isna().sum())\n",
    "df.describe()"
   ]
  },
  {
   "cell_type": "code",
   "execution_count": 9,
   "id": "be532d52",
   "metadata": {},
   "outputs": [
    {
     "data": {
      "text/plain": [
       "(   fixed acidity  volatile acidity  citric acid  residual sugar  chlorides  \\\n",
       " 0            7.4              0.70         0.00             1.9      0.076   \n",
       " 1            7.8              0.88         0.00             2.6      0.098   \n",
       " 2            7.8              0.76         0.04             2.3      0.092   \n",
       " 3           11.2              0.28         0.56             1.9      0.075   \n",
       " 4            7.4              0.70         0.00             1.9      0.076   \n",
       " \n",
       "    free sulfur dioxide  total sulfur dioxide  density    pH  sulphates  \\\n",
       " 0                 11.0                  34.0   0.9978  3.51       0.56   \n",
       " 1                 25.0                  67.0   0.9968  3.20       0.68   \n",
       " 2                 15.0                  54.0   0.9970  3.26       0.65   \n",
       " 3                 17.0                  60.0   0.9980  3.16       0.58   \n",
       " 4                 11.0                  34.0   0.9978  3.51       0.56   \n",
       " \n",
       "    alcohol  \n",
       " 0      9.4  \n",
       " 1      9.8  \n",
       " 2      9.8  \n",
       " 3      9.8  \n",
       " 4      9.4  ,\n",
       " good\n",
       " 1    621\n",
       " 0    522\n",
       " Name: count, dtype: int64)"
      ]
     },
     "execution_count": 9,
     "metadata": {},
     "output_type": "execute_result"
    }
   ],
   "source": [
    "# Drop the Id column (not useful for modeling)\n",
    "if \"Id\" in df.columns:\n",
    "    df = df.drop(columns=[\"Id\"])\n",
    "\n",
    "# Create binary target: Good wine (quality >= 6), Bad wine (<6)\n",
    "df[\"good\"] = (df[\"quality\"] >= 6).astype(int)\n",
    "\n",
    "# Split features (X) and target (y)\n",
    "X = df.drop(columns=[\"quality\", \"good\"])\n",
    "y = df[\"good\"]\n",
    "\n",
    "X.head(), y.value_counts()\n"
   ]
  },
  {
   "cell_type": "code",
   "execution_count": 10,
   "id": "5f458c14",
   "metadata": {},
   "outputs": [],
   "source": [
    "X_train, X_test, y_train, y_test = train_test_split(\n",
    "    X, y, test_size=0.2, stratify=y, random_state=42\n",
    ")"
   ]
  },
  {
   "cell_type": "code",
   "execution_count": 11,
   "id": "05e71010",
   "metadata": {},
   "outputs": [],
   "source": [
    "common_steps = [\n",
    "    (\"imputer\", SimpleImputer(strategy=\"median\")),\n",
    "    (\"scaler\", StandardScaler())\n",
    "]\n",
    "\n",
    "logreg = Pipeline(common_steps + [(\"clf\", LogisticRegression(max_iter=2000))])\n",
    "rf     = Pipeline(common_steps + [(\"clf\", RandomForestClassifier(n_estimators=300, random_state=42))])\n",
    "\n",
    "models = {\"Logistic Regression\": logreg, \"Random Forest\": rf}"
   ]
  },
  {
   "cell_type": "code",
   "execution_count": 12,
   "id": "6abe9a68",
   "metadata": {},
   "outputs": [
    {
     "data": {
      "text/plain": [
       "{'Logistic Regression': {'accuracy': np.float64(0.7494085149822854),\n",
       "  'f1': np.float64(0.7707066545717611)},\n",
       " 'Random Forest': {'accuracy': np.float64(0.7789827658680119),\n",
       "  'f1': np.float64(0.798357145219392)}}"
      ]
     },
     "execution_count": 12,
     "metadata": {},
     "output_type": "execute_result"
    }
   ],
   "source": [
    "scorer = {\"accuracy\": \"accuracy\", \"f1\": \"f1\"}\n",
    "cv = StratifiedKFold(n_splits=5, shuffle=True, random_state=42)\n",
    "\n",
    "cv_results = {}\n",
    "for name, pipe in models.items():\n",
    "    scores = cross_validate(pipe, X_train, y_train, cv=cv, scoring=scorer)\n",
    "    cv_results[name] = {m: scores[f\"test_{m}\"].mean() for m in scorer}\n",
    "\n",
    "cv_results"
   ]
  },
  {
   "cell_type": "code",
   "execution_count": 13,
   "id": "825fb10f",
   "metadata": {},
   "outputs": [
    {
     "name": "stdout",
     "output_type": "stream",
     "text": [
      "Best model: Random Forest\n"
     ]
    }
   ],
   "source": [
    "best_name = max(cv_results, key=lambda k: cv_results[k][\"f1\"])\n",
    "best_model = models[best_name].fit(X_train, y_train)\n",
    "\n",
    "print(f\"Best model: {best_name}\")"
   ]
  },
  {
   "cell_type": "code",
   "execution_count": 14,
   "id": "7bd1eca1",
   "metadata": {},
   "outputs": [
    {
     "name": "stdout",
     "output_type": "stream",
     "text": [
      "Classification Report:\n",
      "               precision    recall  f1-score   support\n",
      "\n",
      "           0       0.81      0.74      0.78       105\n",
      "           1       0.80      0.85      0.82       124\n",
      "\n",
      "    accuracy                           0.80       229\n",
      "   macro avg       0.80      0.80      0.80       229\n",
      "weighted avg       0.80      0.80      0.80       229\n",
      "\n",
      "Accuracy: 0.803, F1-score: 0.825\n"
     ]
    },
    {
     "data": {
      "image/png": "[encoded data removed]",
      "text/plain": [
       "<Figure size 640x480 with 2 Axes>"
      ]
     },
     "metadata": {},
     "output_type": "display_data"
    }
   ],
   "source": [
    "y_pred = best_model.predict(X_test)\n",
    "\n",
    "print(\"Classification Report:\\n\", classification_report(y_test, y_pred))\n",
    "\n",
    "acc = accuracy_score(y_test, y_pred)\n",
    "f1  = f1_score(y_test, y_pred)\n",
    "print(f\"Accuracy: {acc:.3f}, F1-score: {f1:.3f}\")\n",
    "\n",
    "cm = confusion_matrix(y_test, y_pred)\n",
    "sns.heatmap(cm, annot=True, fmt=\"d\", cmap=\"Blues\")\n",
    "plt.xlabel(\"Predicted\")\n",
    "plt.ylabel(\"True\")\n",
    "plt.title(\"Confusion Matrix\")\n",
    "plt.show()"
   ]
  },
  {
   "cell_type": "code",
   "execution_count": 15,
   "id": "ebcdfcf7",
   "metadata": {},
   "outputs": [
    {
     "name": "stdout",
     "output_type": "stream",
     "text": [
      "Artifacts saved: model.pkl, features.json, metrics.json\n"
     ]
    }
   ],
   "source": [
    "joblib.dump(best_model, \"../model.pkl\")\n",
    "\n",
    "with open(\"../features.json\", \"w\") as f:\n",
    "    json.dump(list(X.columns), f)\n",
    "\n",
    "metrics = {\"accuracy\": acc, \"f1\": f1, \"best_model\": best_name}\n",
    "with open(\"../metrics.json\", \"w\") as f:\n",
    "    json.dump(metrics, f, indent=2)\n",
    "\n",
    "print(\"Artifacts saved: model.pkl, features.json, metrics.json\")"
   ]
  },
  {
   "cell_type": "code",
   "execution_count": 16,
   "id": "454ae9cb",
   "metadata": {},
   "outputs": [
    {
     "data": {
      "image/png": "[encoded data removed]",
      "text/plain": [
       "<Figure size 640x480 with 1 Axes>"
      ]
     },
     "metadata": {},
     "output_type": "display_data"
    },
    {
     "data": {
      "image/png": "[encoded data removed]",
      "text/plain": [
       "<Figure size 640x480 with 1 Axes>"
      ]
     },
     "metadata": {},
     "output_type": "display_data"
    },
    {
     "data": {
      "image/png": "[encoded data removed]",
      "text/plain": [
       "<Figure size 1000x800 with 2 Axes>"
      ]
     },
     "metadata": {},
     "output_type": "display_data"
    },
    {
     "data": {
      "application/vnd.plotly.v1+json": {
       "config": {
        "plotlyServerURL": "https://plot.ly"
       },
       "data": [
        {
         "hovertemplate": "color=Bad<br>alcohol=%{x}<br>volatile acidity=%{y}<extra></extra>",
         "legendgroup": "Bad",
         "marker": {
          "color": "#636efa",
          "symbol": "circle"
         },
         "mode": "markers",
         "name": "Bad",
         "showlegend": true,
         "type": "scattergl",
         "x": {
          "bdata": "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",
          "dtype": "f8"
         },
         "xaxis": "x",
         "y": {
          "bdata": "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",
          "dtype": "f8"
         },
         "yaxis": "y"
        },
        {
         "hovertemplate": "color=Good<br>alcohol=%{x}<br>volatile acidity=%{y}<extra></extra>",
         "legendgroup": "Good",
         "marker": {
          "color": "#EF553B",
          "symbol": "circle"
         },
         "mode": "markers",
         "name": "Good",
         "showlegend": true,
         "type": "scattergl",
         "x": {
          "bdata": "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",
          "dtype": "f8"
         },
         "xaxis": "x",
         "y": {
          "bdata": "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",
          "dtype": "f8"
         },
         "yaxis": "y"
        }
       ],
       "layout": {
        "legend": {
         "title": {
          "text": "color"
         },
         "tracegroupgap": 0
        },
        "margin": {
         "t": 60
        },
        "template": {
         "data": {
          "bar": [
           {
            "error_x": {
             "color": "#2a3f5f"
            },
            "error_y": {
             "color": "#2a3f5f"
            },
            "marker": {
             "line": {
              "color": "#E5ECF6",
              "width": 0.5
             },
             "pattern": {
              "fillmode": "overlay",
              "size": 10,
              "solidity": 0.2
             }
            },
            "type": "bar"
           }
          ],
          "barpolar": [
           {
            "marker": {
             "line": {
              "color": "#E5ECF6",
              "width": 0.5
             },
             "pattern": {
              "fillmode": "overlay",
              "size": 10,
              "solidity": 0.2
             }
            },
            "type": "barpolar"
           }
          ],
          "carpet": [
           {
            "aaxis": {
             "endlinecolor": "#2a3f5f",
             "gridcolor": "white",
             "linecolor": "white",
             "minorgridcolor": "white",
             "startlinecolor": "#2a3f5f"
            },
            "baxis": {
             "endlinecolor": "#2a3f5f",
             "gridcolor": "white",
             "linecolor": "white",
             "minorgridcolor": "white",
             "startlinecolor": "#2a3f5f"
            },
            "type": "carpet"
           }
          ],
          "choropleth": [
           {
            "colorbar": {
             "outlinewidth": 0,
             "ticks": ""
            },
            "type": "choropleth"
           }
          ],
          "contour": [
           {
            "colorbar": {
             "outlinewidth": 0,
             "ticks": ""
            },
            "colorscale": [
             [
              0,
              "#0d0887"
             ],
             [
              0.1111111111111111,
              "#46039f"
             ],
             [
              0.2222222222222222,
              "#7201a8"
             ],
             [
              0.3333333333333333,
              "#9c179e"
             ],
             [
              0.4444444444444444,
              "#bd3786"
             ],
             [
              0.5555555555555556,
              "#d8576b"
             ],
             [
              0.6666666666666666,
              "#ed7953"
             ],
             [
              0.7777777777777778,
              "#fb9f3a"
             ],
             [
              0.8888888888888888,
              "#fdca26"
             ],
             [
              1,
              "#f0f921"
             ]
            ],
            "type": "contour"
           }
          ],
          "contourcarpet": [
           {
            "colorbar": {
             "outlinewidth": 0,
             "ticks": ""
            },
            "type": "contourcarpet"
           }
          ],
          "heatmap": [
           {
            "colorbar": {
             "outlinewidth": 0,
             "ticks": ""
            },
            "colorscale": [
             [
              0,
              "#0d0887"
             ],
             [
              0.1111111111111111,
              "#46039f"
             ],
             [
              0.2222222222222222,
              "#7201a8"
             ],
             [
              0.3333333333333333,
              "#9c179e"
             ],
             [
              0.4444444444444444,
              "#bd3786"
             ],
             [
              0.5555555555555556,
              "#d8576b"
             ],
             [
              0.6666666666666666,
              "#ed7953"
             ],
             [
              0.7777777777777778,
              "#fb9f3a"
             ],
             [
              0.8888888888888888,
              "#fdca26"
             ],
             [
              1,
              "#f0f921"
             ]
            ],
            "type": "heatmap"
           }
          ],
          "histogram": [
           {
            "marker": {
             "pattern": {
              "fillmode": "overlay",
              "size": 10,
              "solidity": 0.2
             }
            },
            "type": "histogram"
           }
          ],
          "histogram2d": [
           {
            "colorbar": {
             "outlinewidth": 0,
             "ticks": ""
            },
            "colorscale": [
             [
              0,
              "#0d0887"
             ],
             [
              0.1111111111111111,
              "#46039f"
             ],
             [
              0.2222222222222222,
              "#7201a8"
             ],
             [
              0.3333333333333333,
              "#9c179e"
             ],
             [
              0.4444444444444444,
              "#bd3786"
             ],
             [
              0.5555555555555556,
              "#d8576b"
             ],
             [
              0.6666666666666666,
              "#ed7953"
             ],
             [
              0.7777777777777778,
              "#fb9f3a"
             ],
             [
              0.8888888888888888,
              "#fdca26"
             ],
             [
              1,
              "#f0f921"
             ]
            ],
            "type": "histogram2d"
           }
          ],
          "histogram2dcontour": [
           {
            "colorbar": {
             "outlinewidth": 0,
             "ticks": ""
            },
            "colorscale": [
             [
              0,
              "#0d0887"
             ],
             [
              0.1111111111111111,
              "#46039f"
             ],
             [
              0.2222222222222222,
              "#7201a8"
             ],
             [
              0.3333333333333333,
              "#9c179e"
             ],
             [
              0.4444444444444444,
              "#bd3786"
             ],
             [
              0.5555555555555556,
              "#d8576b"
             ],
             [
              0.6666666666666666,
              "#ed7953"
             ],
             [
              0.7777777777777778,
              "#fb9f3a"
             ],
             [
              0.8888888888888888,
              "#fdca26"
             ],
             [
              1,
              "#f0f921"
             ]
            ],
            "type": "histogram2dcontour"
           }
          ],
          "mesh3d": [
           {
            "colorbar": {
             "outlinewidth": 0,
             "ticks": ""
            },
            "type": "mesh3d"
           }
          ],
          "parcoords": [
           {
            "line": {
             "colorbar": {
              "outlinewidth": 0,
              "ticks": ""
             }
            },
            "type": "parcoords"
           }
          ],
          "pie": [
           {
            "automargin": true,
            "type": "pie"
           }
          ],
          "scatter": [
           {
            "fillpattern": {
             "fillmode": "overlay",
             "size": 10,
             "solidity": 0.2
            },
            "type": "scatter"
           }
          ],
          "scatter3d": [
           {
            "line": {
             "colorbar": {
              "outlinewidth": 0,
              "ticks": ""
             }
            },
            "marker": {
             "colorbar": {
              "outlinewidth": 0,
              "ticks": ""
             }
            },
            "type": "scatter3d"
           }
          ],
          "scattercarpet": [
           {
            "marker": {
             "colorbar": {
              "outlinewidth": 0,
              "ticks": ""
             }
            },
            "type": "scattercarpet"
           }
          ],
          "scattergeo": [
           {
            "marker": {
             "colorbar": {
              "outlinewidth": 0,
              "ticks": ""
             }
            },
            "type": "scattergeo"
           }
          ],
          "scattergl": [
           {
            "marker": {
             "colorbar": {
              "outlinewidth": 0,
              "ticks": ""
             }
            },
            "type": "scattergl"
           }
          ],
          "scattermap": [
           {
            "marker": {
             "colorbar": {
              "outlinewidth": 0,
              "ticks": ""
             }
            },
            "type": "scattermap"
           }
          ],
          "scattermapbox": [
           {
            "marker": {
             "colorbar": {
              "outlinewidth": 0,
              "ticks": ""
             }
            },
            "type": "scattermapbox"
           }
          ],
          "scatterpolar": [
           {
            "marker": {
             "colorbar": {
              "outlinewidth": 0,
              "ticks": ""
             }
            },
            "type": "scatterpolar"
           }
          ],
          "scatterpolargl": [
           {
            "marker": {
             "colorbar": {
              "outlinewidth": 0,
              "ticks": ""
             }
            },
            "type": "scatterpolargl"
           }
          ],
          "scatterternary": [
           {
            "marker": {
             "colorbar": {
              "outlinewidth": 0,
              "ticks": ""
             }
            },
            "type": "scatterternary"
           }
          ],
          "surface": [
           {
            "colorbar": {
             "outlinewidth": 0,
             "ticks": ""
            },
            "colorscale": [
             [
              0,
              "#0d0887"
             ],
             [
              0.1111111111111111,
              "#46039f"
             ],
             [
              0.2222222222222222,
              "#7201a8"
             ],
             [
              0.3333333333333333,
              "#9c179e"
             ],
             [
              0.4444444444444444,
              "#bd3786"
             ],
             [
              0.5555555555555556,
              "#d8576b"
             ],
             [
              0.6666666666666666,
              "#ed7953"
             ],
             [
              0.7777777777777778,
              "#fb9f3a"
             ],
             [
              0.8888888888888888,
              "#fdca26"
             ],
             [
              1,
              "#f0f921"
             ]
            ],
            "type": "surface"
           }
          ],
          "table": [
           {
            "cells": {
             "fill": {
              "color": "#EBF0F8"
             },
             "line": {
              "color": "white"
             }
            },
            "header": {
             "fill": {
              "color": "#C8D4E3"
             },
             "line": {
              "color": "white"
             }
            },
            "type": "table"
           }
          ]
         },
         "layout": {
          "annotationdefaults": {
           "arrowcolor": "#2a3f5f",
           "arrowhead": 0,
           "arrowwidth": 1
          },
          "autotypenumbers": "strict",
          "coloraxis": {
           "colorbar": {
            "outlinewidth": 0,
            "ticks": ""
           }
          },
          "colorscale": {
           "diverging": [
            [
             0,
             "#8e0152"
            ],
            [
             0.1,
             "#c51b7d"
            ],
            [
             0.2,
             "#de77ae"
            ],
            [
             0.3,
             "#f1b6da"
            ],
            [
             0.4,
             "#fde0ef"
            ],
            [
             0.5,
             "#f7f7f7"
            ],
            [
             0.6,
             "#e6f5d0"
            ],
            [
             0.7,
             "#b8e186"
            ],
            [
             0.8,
             "#7fbc41"
            ],
            [
             0.9,
             "#4d9221"
            ],
            [
             1,
             "#276419"
            ]
           ],
           "sequential": [
            [
             0,
             "#0d0887"
            ],
            [
             0.1111111111111111,
             "#46039f"
            ],
            [
             0.2222222222222222,
             "#7201a8"
            ],
            [
             0.3333333333333333,
             "#9c179e"
            ],
            [
             0.4444444444444444,
             "#bd3786"
            ],
            [
             0.5555555555555556,
             "#d8576b"
            ],
            [
             0.6666666666666666,
             "#ed7953"
            ],
            [
             0.7777777777777778,
             "#fb9f3a"
            ],
            [
             0.8888888888888888,
             "#fdca26"
            ],
            [
             1,
             "#f0f921"
            ]
           ],
           "sequentialminus": [
            [
             0,
             "#0d0887"
            ],
            [
             0.1111111111111111,
             "#46039f"
            ],
            [
             0.2222222222222222,
             "#7201a8"
            ],
            [
             0.3333333333333333,
             "#9c179e"
            ],
            [
             0.4444444444444444,
             "#bd3786"
            ],
            [
             0.5555555555555556,
             "#d8576b"
            ],
            [
             0.6666666666666666,
             "#ed7953"
            ],
            [
             0.7777777777777778,
             "#fb9f3a"
            ],
            [
             0.8888888888888888,
             "#fdca26"
            ],
            [
             1,
             "#f0f921"
            ]
           ]
          },
          "colorway": [
           "#636efa",
           "#EF553B",
           "#00cc96",
           "#ab63fa",
           "#FFA15A",
           "#19d3f3",
           "#FF6692",
           "#B6E880",
           "#FF97FF",
           "#FECB52"
          ],
          "font": {
           "color": "#2a3f5f"
          },
          "geo": {
           "bgcolor": "white",
           "lakecolor": "white",
           "landcolor": "#E5ECF6",
           "showlakes": true,
           "showland": true,
           "subunitcolor": "white"
          },
          "hoverlabel": {
           "align": "left"
          },
          "hovermode": "closest",
          "mapbox": {
           "style": "light"
          },
          "paper_bgcolor": "white",
          "plot_bgcolor": "#E5ECF6",
          "polar": {
           "angularaxis": {
            "gridcolor": "white",
            "linecolor": "white",
            "ticks": ""
           },
           "bgcolor": "#E5ECF6",
           "radialaxis": {
            "gridcolor": "white",
            "linecolor": "white",
            "ticks": ""
           }
          },
          "scene": {
           "xaxis": {
            "backgroundcolor": "#E5ECF6",
            "gridcolor": "white",
            "gridwidth": 2,
            "linecolor": "white",
            "showbackground": true,
            "ticks": "",
            "zerolinecolor": "white"
           },
           "yaxis": {
            "backgroundcolor": "#E5ECF6",
            "gridcolor": "white",
            "gridwidth": 2,
            "linecolor": "white",
            "showbackground": true,
            "ticks": "",
            "zerolinecolor": "white"
           },
           "zaxis": {
            "backgroundcolor": "#E5ECF6",
            "gridcolor": "white",
            "gridwidth": 2,
            "linecolor": "white",
            "showbackground": true,
            "ticks": "",
            "zerolinecolor": "white"
           }
          },
          "shapedefaults": {
           "line": {
            "color": "#2a3f5f"
           }
          },
          "ternary": {
           "aaxis": {
            "gridcolor": "white",
            "linecolor": "white",
            "ticks": ""
           },
           "baxis": {
            "gridcolor": "white",
            "linecolor": "white",
            "ticks": ""
           },
           "bgcolor": "#E5ECF6",
           "caxis": {
            "gridcolor": "white",
            "linecolor": "white",
            "ticks": ""
           }
          },
          "title": {
           "x": 0.05
          },
          "xaxis": {
           "automargin": true,
           "gridcolor": "white",
           "linecolor": "white",
           "ticks": "",
           "title": {
            "standoff": 15
           },
           "zerolinecolor": "white",
           "zerolinewidth": 2
          },
          "yaxis": {
           "automargin": true,
           "gridcolor": "white",
           "linecolor": "white",
           "ticks": "",
           "title": {
            "standoff": 15
           },
           "zerolinecolor": "white",
           "zerolinewidth": 2
          }
         }
        },
        "xaxis": {
         "anchor": "y",
         "domain": [
          0,
          1
         ],
         "title": {
          "text": "alcohol"
         }
        },
        "yaxis": {
         "anchor": "x",
         "domain": [
          0,
          1
         ],
         "title": {
          "text": "volatile acidity"
         }
        }
       }
      }
     },
     "metadata": {},
     "output_type": "display_data"
    }
   ],
   "source": [
    "# Target distribution\n",
    "sns.countplot(x=\"quality\", data=df)\n",
    "plt.title(\"Wine Quality Distribution\")\n",
    "plt.show()\n",
    "\n",
    "# Good vs Bad wine\n",
    "sns.countplot(x=\"good\", data=df)\n",
    "plt.title(\"Good vs Bad Wine\")\n",
    "plt.show()\n",
    "\n",
    "# Correlation heatmap\n",
    "plt.figure(figsize=(10,8))\n",
    "sns.heatmap(X.corr(), cmap=\"coolwarm\")\n",
    "plt.title(\"Feature Correlations\")\n",
    "plt.show()\n",
    "\n",
    "# Example interactive plot\n",
    "fig = px.scatter(df, x=\"alcohol\", y=\"volatile acidity\", color=df[\"good\"].map({0:\"Bad\",1:\"Good\"}))\n",
    "fig.show()"
   ]
  }
 ],
 "metadata": {
  "kernelspec": {
   "display_name": ".venv",
   "language": "python",
   "name": "python3"
  },
  "language_info": {
   "codemirror_mode": {
    "name": "ipython",
    "version": 3
   },
   "file_extension": ".py",
   "mimetype": "text/x-python",
   "name": "python",
   "nbconvert_exporter": "python",
   "pygments_lexer": "ipython3",
   "version": "3.13.7"
  }
 },
 "nbformat": 4,
 "nbformat_minor": 5
}
